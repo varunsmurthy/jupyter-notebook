{
 "cells": [
  {
   "cell_type": "markdown",
   "metadata": {},
   "source": [
    "Testing the Matlab kernel in Jupyter notebook. Instructions here: https://walczak.org/2017/07/using-matlab-in-jupyter-notebooks-on-windows/"
   ]
  },
  {
   "cell_type": "code",
   "execution_count": 1,
   "metadata": {
    "collapsed": false
   },
   "outputs": [
    {
     "name": "stdout",
     "output_type": "stream",
     "text": [
      "\n",
      "ans =\n",
      "\n",
      "    17    24     1     8    15\n",
      "    23     5     7    14    16\n",
      "     4     6    13    20    22\n",
      "    10    12    19    21     3\n",
      "    11    18    25     2     9\n",
      "\n",
      "\n"
     ]
    }
   ],
   "source": [
    "magic(5)"
   ]
  },
  {
   "cell_type": "code",
   "execution_count": 2,
   "metadata": {
    "collapsed": false
   },
   "outputs": [
    {
     "name": "stdout",
     "output_type": "stream",
     "text": [
      "\n"
     ]
    },
    {
     "data": {
      "image/png": "[encoded data removed]",
      "text/plain": [
       "<IPython.core.display.Image object>"
      ]
     },
     "metadata": {},
     "output_type": "display_data"
    }
   ],
   "source": [
    "x = 0:10;\n",
    "slope = 2;\n",
    "intercept = 5;\n",
    "y = slope.*x + intercept;\n",
    "plot(x,y);"
   ]
  },
  {
   "cell_type": "markdown",
   "metadata": {},
   "source": [
    "Checking if user defined functions work in the contet of matlab notebooks."
   ]
  },
  {
   "cell_type": "code",
   "execution_count": 3,
   "metadata": {
    "collapsed": false
   },
   "outputs": [
    {
     "name": "stderr",
     "output_type": "stream",
     "text": [
      "\u001b[1;31mError: Function definitions are not permitted in this context.\n",
      "\n",
      "\u001b[0m"
     ]
    }
   ],
   "source": [
    "function sum_val = int_add(a,b)\n",
    "\n",
    "sum_val = a + b;"
   ]
  },
  {
   "cell_type": "markdown",
   "metadata": {},
   "source": [
    "This doesn't work because Matlab requires UDFs to be in separate files, with the name of the file same as the name of the UDF."
   ]
  },
  {
   "cell_type": "markdown",
   "metadata": {},
   "source": [
    "However, there might be a work around. Following instructions from here: http://am111.readthedocs.io/en/latest/jmatlab_use.html#User-defined-functions"
   ]
  },
  {
   "cell_type": "code",
   "execution_count": 6,
   "metadata": {
    "collapsed": false
   },
   "outputs": [
    {
     "name": "stdout",
     "output_type": "stream",
     "text": [
      "Created file 'C:\\Varun\\Programming\\JupyterKernelTests\\Matlab\\sum_val.m'.\n"
     ]
    }
   ],
   "source": [
    "%%file sum_val.m\n",
    "\n",
    "function sum_val = int_add(a,b)\n",
    "    sum_val = a + b;\n",
    "end"
   ]
  },
  {
   "cell_type": "markdown",
   "metadata": {},
   "source": [
    "We can now call the sum_val() function since the function file is created in the same folder as the notebook."
   ]
  },
  {
   "cell_type": "code",
   "execution_count": 8,
   "metadata": {
    "collapsed": false
   },
   "outputs": [
    {
     "name": "stdout",
     "output_type": "stream",
     "text": [
      "    44\n",
      "\n",
      "\n"
     ]
    }
   ],
   "source": [
    "a = 18;\n",
    "b = 26;\n",
    "\n",
    "c = sum_val(a,b);\n",
    "\n",
    "disp(c);"
   ]
  }
 ],
 "metadata": {
  "kernelspec": {
   "display_name": "Matlab",
   "language": "matlab",
   "name": "matlab"
  },
  "language_info": {
   "codemirror_mode": "octave",
   "file_extension": ".m",
   "help_links": [
    {
     "text": "MetaKernel Magics",
     "url": "https://github.com/calysto/metakernel/blob/master/metakernel/magics/README.md"
    }
   ],
   "mimetype": "text/x-octave",
   "name": "matlab",
   "version": "0.15.0"
  }
 },
 "nbformat": 4,
 "nbformat_minor": 2
}
