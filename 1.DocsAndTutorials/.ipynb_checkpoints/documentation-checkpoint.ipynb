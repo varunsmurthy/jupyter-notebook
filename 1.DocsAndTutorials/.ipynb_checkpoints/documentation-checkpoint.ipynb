{
 "cells": [
  {
   "cell_type": "markdown",
   "metadata": {},
   "source": [
    "# Jupyter notebook documentation"
   ]
  },
  {
   "cell_type": "markdown",
   "metadata": {},
   "source": [
    "Links:\n",
    "\n",
    "Beginner guide: http://jupyter-notebook-beginner-guide.readthedocs.io/en/latest/index.html#\n",
    "Changing Jupyter start folder: https://stackoverflow.com/questions/35254852/how-to-change-jupyter-start-folder\n",
    "\n",
    "Jupyter notebook tutorial: http://jupyter-notebook.readthedocs.io/en/latest/notebook.html\n",
    "\n",
    "Markdown syntax: https://daringfireball.net/projects/markdown/syntax and http://jupyter-notebook.readthedocs.io/en/latest/examples/Notebook/Working%20With%20Markdown%20Cells.html\n"
   ]
  }
 ],
 "metadata": {
  "kernelspec": {
   "display_name": "Python 3",
   "language": "python",
   "name": "python3"
  },
  "language_info": {
   "codemirror_mode": {
    "name": "ipython",
    "version": 3
   },
   "file_extension": ".py",
   "mimetype": "text/x-python",
   "name": "python",
   "nbconvert_exporter": "python",
   "pygments_lexer": "ipython3",
   "version": "3.6.0"
  }
 },
 "nbformat": 4,
 "nbformat_minor": 2
}
